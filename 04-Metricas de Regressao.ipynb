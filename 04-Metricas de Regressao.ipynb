{
 "cells": [
  {
   "cell_type": "markdown",
   "id": "super-holocaust",
   "metadata": {},
   "source": [
    "# Métricas de Regressão"
   ]
  },
  {
   "cell_type": "code",
   "execution_count": 1,
   "id": "dental-manufacturer",
   "metadata": {},
   "outputs": [],
   "source": [
    "import pandas as pd\n",
    "import numpy as np\n",
    "import sklearn.metrics as metricas"
   ]
  },
  {
   "cell_type": "code",
   "execution_count": 2,
   "id": "convinced-burns",
   "metadata": {},
   "outputs": [
    {
     "data": {
      "text/html": [
       "<div>\n",
       "<style scoped>\n",
       "    .dataframe tbody tr th:only-of-type {\n",
       "        vertical-align: middle;\n",
       "    }\n",
       "\n",
       "    .dataframe tbody tr th {\n",
       "        vertical-align: top;\n",
       "    }\n",
       "\n",
       "    .dataframe thead th {\n",
       "        text-align: right;\n",
       "    }\n",
       "</style>\n",
       "<table border=\"1\" class=\"dataframe\">\n",
       "  <thead>\n",
       "    <tr style=\"text-align: right;\">\n",
       "      <th></th>\n",
       "      <th>X</th>\n",
       "      <th>y</th>\n",
       "      <th>y_pred</th>\n",
       "    </tr>\n",
       "  </thead>\n",
       "  <tbody>\n",
       "    <tr>\n",
       "      <th>0</th>\n",
       "      <td>1</td>\n",
       "      <td>1</td>\n",
       "      <td>3.0</td>\n",
       "    </tr>\n",
       "    <tr>\n",
       "      <th>1</th>\n",
       "      <td>3</td>\n",
       "      <td>4</td>\n",
       "      <td>2.0</td>\n",
       "    </tr>\n",
       "    <tr>\n",
       "      <th>2</th>\n",
       "      <td>3</td>\n",
       "      <td>7</td>\n",
       "      <td>4.5</td>\n",
       "    </tr>\n",
       "  </tbody>\n",
       "</table>\n",
       "</div>"
      ],
      "text/plain": [
       "   X  y  y_pred\n",
       "0  1  1     3.0\n",
       "1  3  4     2.0\n",
       "2  3  7     4.5"
      ]
     },
     "execution_count": 2,
     "metadata": {},
     "output_type": "execute_result"
    }
   ],
   "source": [
    "X = [1, 3, 3]\n",
    "y = [1, 4, 7]\n",
    "y_pred = [3, 2, 4.5]\n",
    "\n",
    "df = pd.DataFrame({ 'X': X, 'y': y, 'y_pred': y_pred })\n",
    "df"
   ]
  },
  {
   "cell_type": "markdown",
   "id": "modern-situation",
   "metadata": {},
   "source": [
    "### MAE"
   ]
  },
  {
   "cell_type": "code",
   "execution_count": 3,
   "id": "further-discharge",
   "metadata": {},
   "outputs": [
    {
     "data": {
      "text/plain": [
       "2.1666666666666665"
      ]
     },
     "execution_count": 3,
     "metadata": {},
     "output_type": "execute_result"
    }
   ],
   "source": [
    "metricas.mean_absolute_error(df['y'], df['y_pred'])"
   ]
  },
  {
   "cell_type": "code",
   "execution_count": 4,
   "id": "outside-singer",
   "metadata": {},
   "outputs": [
    {
     "data": {
      "text/plain": [
       "2.1666666666666665"
      ]
     },
     "execution_count": 4,
     "metadata": {},
     "output_type": "execute_result"
    }
   ],
   "source": [
    "mae = (df['y'] - df['y_pred']).abs().sum() / df.shape[0]\n",
    "mae"
   ]
  },
  {
   "cell_type": "markdown",
   "id": "urban-charles",
   "metadata": {},
   "source": [
    "### MSE"
   ]
  },
  {
   "cell_type": "code",
   "execution_count": 5,
   "id": "english-cycle",
   "metadata": {},
   "outputs": [
    {
     "data": {
      "text/plain": [
       "4.75"
      ]
     },
     "execution_count": 5,
     "metadata": {},
     "output_type": "execute_result"
    }
   ],
   "source": [
    "metricas.mean_squared_error(df['y'], df['y_pred'])"
   ]
  },
  {
   "cell_type": "code",
   "execution_count": 6,
   "id": "genetic-locator",
   "metadata": {},
   "outputs": [
    {
     "data": {
      "text/plain": [
       "3"
      ]
     },
     "execution_count": 6,
     "metadata": {},
     "output_type": "execute_result"
    }
   ],
   "source": [
    "df.shape[0]"
   ]
  },
  {
   "cell_type": "code",
   "execution_count": 7,
   "id": "suffering-vancouver",
   "metadata": {},
   "outputs": [
    {
     "data": {
      "text/plain": [
       "4.75"
      ]
     },
     "execution_count": 7,
     "metadata": {},
     "output_type": "execute_result"
    }
   ],
   "source": [
    "mse = ((df['y'] - df['y_pred'])**2).sum() / df.shape[0]\n",
    "mse"
   ]
  },
  {
   "cell_type": "markdown",
   "id": "several-waters",
   "metadata": {},
   "source": [
    "### RMSE"
   ]
  },
  {
   "cell_type": "code",
   "execution_count": 8,
   "id": "spare-employment",
   "metadata": {},
   "outputs": [
    {
     "data": {
      "text/plain": [
       "2.179449471770337"
      ]
     },
     "execution_count": 8,
     "metadata": {},
     "output_type": "execute_result"
    }
   ],
   "source": [
    "metricas.mean_squared_error(df['y'], df['y_pred'], squared=False)"
   ]
  },
  {
   "cell_type": "code",
   "execution_count": 9,
   "id": "printable-discipline",
   "metadata": {},
   "outputs": [
    {
     "data": {
      "text/plain": [
       "2.179449471770337"
      ]
     },
     "execution_count": 9,
     "metadata": {},
     "output_type": "execute_result"
    }
   ],
   "source": [
    "rmse = np.sqrt(mse)\n",
    "rmse"
   ]
  },
  {
   "cell_type": "code",
   "execution_count": 10,
   "id": "veterinary-employer",
   "metadata": {},
   "outputs": [
    {
     "data": {
      "text/plain": [
       "2.179449471770337"
      ]
     },
     "execution_count": 10,
     "metadata": {},
     "output_type": "execute_result"
    }
   ],
   "source": [
    "rmse = mse ** (1/2)\n",
    "rmse"
   ]
  }
 ],
 "metadata": {
  "kernelspec": {
   "display_name": "Python 3",
   "language": "python",
   "name": "python3"
  },
  "language_info": {
   "codemirror_mode": {
    "name": "ipython",
    "version": 3
   },
   "file_extension": ".py",
   "mimetype": "text/x-python",
   "name": "python",
   "nbconvert_exporter": "python",
   "pygments_lexer": "ipython3",
   "version": "3.8.5"
  }
 },
 "nbformat": 4,
 "nbformat_minor": 5
}
